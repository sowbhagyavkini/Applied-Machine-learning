{
  "nbformat": 4,
  "nbformat_minor": 0,
  "metadata": {
    "colab": {
      "provenance": []
    },
    "kernelspec": {
      "name": "python3",
      "display_name": "Python 3"
    },
    "language_info": {
      "name": "python"
    }
  },
  "cells": [
    {
      "cell_type": "code",
      "execution_count": 23,
      "metadata": {
        "id": "okAsZR7TJtie"
      },
      "outputs": [],
      "source": [
        "import numpy as np\n",
        "\n",
        "def vectorized_compute_cost(X, y, theta):\n",
        "    m = len(y)\n",
        "    predictions = np.dot(X, theta)\n",
        "    error = predictions - y\n",
        "    cost = (1 / (2 * m)) * np.sum(error**2)\n",
        "    return cost\n",
        "\n",
        "def vectorized_compute_gradient(X, y, theta):\n",
        "    m = len(y)\n",
        "    predictions = np.dot(X, theta)\n",
        "    error = predictions - y\n",
        "    gradient = (1 / m) * np.dot(X.T, error)\n",
        "    return gradient\n",
        "\n",
        "# Example usage:\n",
        "# X and y are your feature matrix and target vector\n",
        "# theta is your initial parameter vector\n",
        "# cost = vectorized_compute_cost(X, y, theta)\n",
        "# gradient = vectorized_compute_gradient(X, y, theta)\n"
      ]
    },
    {
      "cell_type": "code",
      "source": [
        "import numpy as np\n",
        "import matplotlib.pyplot as plt\n",
        "from sklearn.datasets import load_linnerud\n",
        "\n",
        "# Load the Linnerud dataset\n",
        "data = load_linnerud()\n",
        "X = data.data\n",
        "y = data.target\n",
        "\n",
        "# Assuming you have the vectorized cost and gradient functions from part (a)\n",
        "def vectorized_compute_cost(X, y, theta):\n",
        "    m = len(y)\n",
        "    predictions = np.dot(X, theta)\n",
        "    cost = (1 / (2 * m)) * np.sum((predictions - y) ** 2)\n",
        "    return cost\n",
        "\n",
        "def vectorized_compute_gradient(X, y, theta):\n",
        "    m = len(y)\n",
        "    gradient = (1 / m) * np.dot(X.T, (np.dot(X, theta) - y))\n",
        "    return gradient\n",
        "\n",
        "def gradient_descent(X, y, theta, learning_rate, num_epochs):\n",
        "    m = len(y)\n",
        "    loss_history = []\n",
        "\n",
        "    for epoch in range(num_epochs):\n",
        "        gradient = vectorized_compute_gradient(X, y, theta)\n",
        "        theta -= learning_rate * gradient\n",
        "\n",
        "        cost = vectorized_compute_cost(X, y, theta)\n",
        "        loss_history.append(cost)\n",
        "\n",
        "    return theta, loss_history\n",
        "\n",
        "# Set hyperparameters\n",
        "num_epochs = 1000\n",
        "learning_rate = 0.01\n",
        "\n",
        "# Initialize theta with the correct shape\n",
        "theta = np.zeros((X.shape[1], y.shape[1]))\n",
        "\n",
        "# Run gradient descent\n",
        "theta, loss_history = gradient_descent(X, y, theta, learning_rate, num_epochs)\n",
        "\n",
        "# Plot the loss curve\n",
        "plt.plot(range(num_epochs), loss_history)\n",
        "plt.xlabel(\"Epoch/Iteration\")\n",
        "plt.ylabel(\"Loss\")\n",
        "plt.title(\"Epoch/Iteration versus Loss\")\n",
        "plt.show()\n"
      ],
      "metadata": {
        "colab": {
          "base_uri": "https://localhost:8080/",
          "height": 541
        },
        "id": "HK5ShRiTJ4Ki",
        "outputId": "fc3dca14-5e89-4536-a46d-8f999fbc0bb1"
      },
      "execution_count": 29,
      "outputs": [
        {
          "output_type": "stream",
          "name": "stderr",
          "text": [
            "<ipython-input-29-87b57fdaa261>:14: RuntimeWarning: overflow encountered in square\n",
            "  cost = (1 / (2 * m)) * np.sum((predictions - y) ** 2)\n",
            "<ipython-input-29-87b57fdaa261>:28: RuntimeWarning: invalid value encountered in subtract\n",
            "  theta -= learning_rate * gradient\n"
          ]
        },
        {
          "output_type": "display_data",
          "data": {
            "text/plain": [
              "<Figure size 640x480 with 1 Axes>"
            ],
            "image/png": "[encoded data removed]"
          },
          "metadata": {}
        }
      ]
    },
    {
      "cell_type": "code",
      "source": [],
      "metadata": {
        "id": "VvW6GHITzRjj"
      },
      "execution_count": 25,
      "outputs": []
    },
    {
      "cell_type": "code",
      "source": [
        "from sklearn.linear_model import LinearRegression\n",
        "from sklearn.metrics import r2_score\n",
        "\n",
        "# Split the data into training and testing sets\n",
        "from sklearn.model_selection import train_test_split\n",
        "X_train, X_test, y_train, y_test = train_test_split(X, y, test_size=0.2, random_state=42)\n",
        "\n",
        "from sklearn.preprocessing import StandardScaler\n",
        "\n",
        "scaler = StandardScaler()\n",
        "X_train = scaler.fit_transform(X_train)\n",
        "X_test = scaler.transform(X_test)\n",
        "\n",
        "# Initialize theta with the correct shape\n",
        "theta = np.zeros((X_train.shape[1], y_train.shape[1]))\n",
        "\n",
        "# Assuming you have the vectorized cost and gradient functions from part (a)\n",
        "\n",
        "# Run gradient descent to obtain optimized theta\n",
        "num_epochs = 1000\n",
        "learning_rate = 0.01\n",
        "\n",
        "theta, _ = gradient_descent(X_train, y_train, theta, learning_rate, num_epochs)\n",
        "\n",
        "# Create a linear regression model using scikit-learn\n",
        "model = LinearRegression()\n",
        "model.fit(X_train, y_train)\n",
        "\n",
        "# Make predictions\n",
        "y_pred_custom = np.dot(X_test, theta)\n",
        "y_pred_sklearn = model.predict(X_test)\n",
        "\n",
        "# Calculate R2 score for both models\n",
        "r2_custom = r2_score(y_test, y_pred_custom)\n",
        "r2_sklearn = r2_score(y_test, y_pred_sklearn)\n",
        "\n",
        "print(\"R2 Score (Custom):\", r2_custom)\n",
        "print(\"R2 Score (Scikit-learn):\", r2_sklearn)\n"
      ],
      "metadata": {
        "colab": {
          "base_uri": "https://localhost:8080/"
        },
        "id": "rPAPMSJPJ-G6",
        "outputId": "d6bd73e3-7dde-4965-e4df-0b0bb60a5ce4"
      },
      "execution_count": 30,
      "outputs": [
        {
          "output_type": "stream",
          "name": "stdout",
          "text": [
            "R2 Score (Custom): -189.3027693475182\n",
            "R2 Score (Scikit-learn): -1.350411554208635\n"
          ]
        }
      ]
    }
  ]
}